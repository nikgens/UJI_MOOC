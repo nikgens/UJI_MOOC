{
 "cells": [
  {
   "cell_type": "markdown",
   "metadata": {},
   "source": [
    "## Ball Picking Challenge\n",
    "\n",
    "### Part 1: Navigation\n",
    "\n",
    "The aim is to program the robot for the first part of the challenge: follow the line from the beginning to the destination point. To do so, you need to reuse the abilities learnt in weeks 1-3; please feel free to reuse the code of those notebooks and exercises."
   ]
  },
  {
   "cell_type": "markdown",
   "metadata": {},
   "source": [
    "### Initialization"
   ]
  },
  {
   "cell_type": "code",
   "execution_count": 9,
   "metadata": {
    "collapsed": false
   },
   "outputs": [
    {
     "name": "stdout",
     "output_type": "stream",
     "text": [
      "Found ROS controller /pioneer3dx_11552_ip_172_31_2_203\n"
     ]
    }
   ],
   "source": [
    "from packages import initialization\n",
    "from packages import pioneer3dx as p3dx\n",
    "import matplotlib.pyplot as plt\n",
    "import numpy\n",
    "import cv2\n",
    "p3dx.init()"
   ]
  },
  {
   "cell_type": "markdown",
   "metadata": {},
   "source": [
    "### Help functions"
   ]
  },
  {
   "cell_type": "code",
   "execution_count": 10,
   "metadata": {
    "collapsed": true
   },
   "outputs": [],
   "source": [
    "def color_blob(lower, upper):\n",
    "    hsv = cv2.cvtColor(p3dx.image, cv2.COLOR_RGB2HSV)\n",
    "    mask = cv2.inRange(hsv, lower, upper)\n",
    "    M = cv2.moments(mask)\n",
    "    area = M['m00']\n",
    "    if area > 0:\n",
    "        cx = int(M['m10']/area)\n",
    "        cy = int(M['m01']/area)\n",
    "    else:\n",
    "        cx = None\n",
    "        cy = None\n",
    "    return area, cx, cy"
   ]
  },
  {
   "cell_type": "code",
   "execution_count": 11,
   "metadata": {
    "collapsed": true
   },
   "outputs": [],
   "source": [
    "def move(V_robot,w_robot):\n",
    "    r = 0.1953 / 2\n",
    "    L = 0.33\n",
    "    w_r = (2 * V_robot + L * w_robot) / (2*r)\n",
    "    w_l = (2 * V_robot - L * w_robot) / (2*r)\n",
    "    p3dx.move(w_l, w_r)"
   ]
  },
  {
   "cell_type": "code",
   "execution_count": 12,
   "metadata": {
    "collapsed": true
   },
   "outputs": [],
   "source": [
    "# Lower-level functions\n",
    "def line_centroid(image):\n",
    "    hsv = cv2.cvtColor(p3dx.image, cv2.COLOR_RGB2HSV)\n",
    "    lower_violet = numpy.array([140, 100, 80])\n",
    "    upper_violet = numpy.array([160, 255, 255])\n",
    "    mask = cv2.inRange(hsv, lower_violet, upper_violet)\n",
    "    mask[0:80, 0:150] = 0\n",
    "    M = cv2.moments(mask)\n",
    "    if int(M['m00']) is not 0:\n",
    "        cx = int(M['m10']/M['m00'])\n",
    "        cy = int(M['m01']/M['m00'])\n",
    "    else:\n",
    "        cx = 0\n",
    "        cy = 0\n",
    "    return cx, cy"
   ]
  },
  {
   "cell_type": "code",
   "execution_count": 13,
   "metadata": {
    "collapsed": true
   },
   "outputs": [],
   "source": [
    "# Lower-level functions\n",
    "def green_centroid():\n",
    "    hsv = cv2.cvtColor(p3dx.image, cv2.COLOR_RGB2HSV)\n",
    "    lower = numpy.array([50, 100, 80])\n",
    "    upper = numpy.array([70, 255, 255]) \n",
    "    mask = cv2.inRange(hsv, lower, upper)\n",
    "    mask[0:80, 0:150] = 0\n",
    "    M = cv2.moments(mask)\n",
    "    area = M['m00']\n",
    "    if int(M['m00']) is not 0:\n",
    "        cx = int(M['m10']/M['m00'])\n",
    "        cy = int(M['m01']/M['m00'])\n",
    "    else:\n",
    "        cx = 0\n",
    "        cy = 0\n",
    "    return area, cx, cy"
   ]
  },
  {
   "cell_type": "code",
   "execution_count": 14,
   "metadata": {
    "collapsed": false
   },
   "outputs": [],
   "source": [
    "def follow_line():\n",
    "    \n",
    "    width = p3dx.image.shape[1]\n",
    "    Kp = 0.1\n",
    "    while is_green_detected()[1] < 300000:\n",
    "        cx, cy = line_centroid(p3dx.image)\n",
    "        #print (cx, is_green_detected())\n",
    "        if is_green_detected()[0] and is_green_detected()[2] > cx:\n",
    "            move(2, -2)\n",
    "            #print(\"Green detected on right\")\n",
    "        \n",
    "        elif is_green_detected()[0] and is_green_detected()[2] < cx:\n",
    "            move(2, 2)\n",
    "            #print(\"Green detected on left\")\n",
    "        \n",
    "        elif cy == 0 :\n",
    "            move(2, 0.5)\n",
    "            #print(\"Hole detected\")\n",
    "        \n",
    "        elif color_blob(numpy.array([ 0, 100, 100]), numpy.array([ 10, 255, 255]))[0] > 200000:\n",
    "            #print(\"Red obstacle detected\")\n",
    "            R = 0.9\n",
    "            V = 0.35\n",
    "            w = V/R\n",
    "            move(V,-w)\n",
    "            p3dx.sleep(2.2)\n",
    "            move(V,w*1.5)\n",
    "            p3dx.sleep(2.7)\n",
    "            move(V,-w*4)\n",
    "            p3dx.sleep(1)\n",
    "    \n",
    "        else:\n",
    "            err = cx - (width/2)\n",
    "            linear = 2 #The linear velocity is constant, e.g. 2m/s\n",
    "            angular = - Kp * err # the angular velocity w\n",
    "            move(linear, angular)\n",
    "            #print('Following the line')\n",
    "    move(0,0)\n",
    "    #print('Large green detected')"
   ]
  },
  {
   "cell_type": "code",
   "execution_count": null,
   "metadata": {
    "collapsed": false
   },
   "outputs": [],
   "source": [
    "def is_green_detected():\n",
    "    area, cx, cy = green_centroid()\n",
    "    if area == 0:\n",
    "        return False, area, cx, cy\n",
    "    else:\n",
    "        return True, area, cx, cy"
   ]
  },
  {
   "cell_type": "markdown",
   "metadata": {},
   "source": [
    "### Main Loop"
   ]
  },
  {
   "cell_type": "code",
   "execution_count": null,
   "metadata": {
    "collapsed": false
   },
   "outputs": [],
   "source": [
    "p3dx.tilt(-0.45)\n",
    "try:\n",
    "    while True:\n",
    "        follow_line()    \n",
    "except KeyboardInterrupt:\n",
    "    move(0,0)"
   ]
  },
  {
   "cell_type": "markdown",
   "metadata": {
    "collapsed": true
   },
   "source": [
    "### Check the image"
   ]
  },
  {
   "cell_type": "code",
   "execution_count": null,
   "metadata": {
    "collapsed": false
   },
   "outputs": [],
   "source": [
    "%matplotlib inline\n",
    "plt.imshow(p3dx.image);"
   ]
  },
  {
   "cell_type": "code",
   "execution_count": null,
   "metadata": {
    "collapsed": false,
    "scrolled": false
   },
   "outputs": [],
   "source": [
    "lower = numpy.array([50, 100, 80])\n",
    "upper = numpy.array([70, 255, 255]) \n",
    "hsv = cv2.cvtColor(p3dx.image, cv2.COLOR_RGB2HSV)\n",
    "mask = cv2.inRange(hsv, lower, upper)\n",
    "#mask[0:80, 0:150] = 0\n",
    "M = cv2.moments(mask)\n",
    "area = M['m00']\n",
    "plt.imshow(mask,cmap='gray')\n",
    "print(area)"
   ]
  },
  {
   "cell_type": "markdown",
   "metadata": {},
   "source": [
    "---\n",
    "#### Try-a-Bot: an open source guide for robot programming\n",
    "Developed by:\n",
    "[![Robotic Intelligence Lab @ UJI](img/logo/robinlab.png \"Robotic Intelligence Lab @ UJI\")](http://robinlab.uji.es)\n",
    "\n",
    "Sponsored by:\n",
    "<table>\n",
    "<tr>\n",
    "<td style=\"border:1px solid #ffffff ;\">\n",
    "<a href=\"http://www.ieee-ras.org\"><img src=\"img/logo/ras.png\"></a>\n",
    "</td>\n",
    "<td style=\"border:1px solid #ffffff ;\">\n",
    "<a href=\"http://www.cyberbotics.com\"><img src=\"img/logo/cyberbotics.png\"></a>\n",
    "</td>\n",
    "<td style=\"border:1px solid #ffffff ;\">\n",
    "<a href=\"http://www.theconstructsim.com\"><img src=\"img/logo/theconstruct.png\"></a>\n",
    "</td>\n",
    "</tr>\n",
    "</table>\n",
    "\n",
    "Follow us:\n",
    "<table>\n",
    "<tr>\n",
    "<td style=\"border:1px solid #ffffff ;\">\n",
    "<a href=\"https://www.facebook.com/RobotProgrammingNetwork\"><img src=\"img/logo/facebook.png\"></a>\n",
    "</td>\n",
    "<td style=\"border:1px solid #ffffff ;\">\n",
    "<a href=\"https://www.youtube.com/user/robotprogrammingnet\"><img src=\"img/logo/youtube.png\"></a>\n",
    "</td>\n",
    "</tr>\n",
    "</table>"
   ]
  }
 ],
 "metadata": {
  "kernelspec": {
   "display_name": "Python 2",
   "language": "python",
   "name": "python2"
  },
  "language_info": {
   "codemirror_mode": {
    "name": "ipython",
    "version": 2
   },
   "file_extension": ".py",
   "mimetype": "text/x-python",
   "name": "python",
   "nbconvert_exporter": "python",
   "pygments_lexer": "ipython2",
   "version": "2.7.11"
  }
 },
 "nbformat": 4,
 "nbformat_minor": 0
}
