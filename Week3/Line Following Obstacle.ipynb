{
 "cells": [
  {
   "cell_type": "markdown",
   "metadata": {},
   "source": [
    "## Line Following with Obstacle Avoidance\n",
    "\n",
    "The final task of this week is a combination of the line following, obstacle detection, and wall following behaviors.\n",
    "\n",
    "The robot should follow the line until an obstacle is detected in its path. Then, the robot will turn right and follow the wall at its right until the line is detected again, and it will resume the line following behavior.\n",
    "\n",
    "Please watch the following demo video:"
   ]
  },
  {
   "cell_type": "code",
   "execution_count": 1,
   "metadata": {
    "collapsed": false
   },
   "outputs": [
    {
     "data": {
      "image/jpeg": "[encoded data removed]",
      "text/html": [
       "\n",
       "        <iframe\n",
       "            width=\"400\"\n",
       "            height=\"300\"\n",
       "            src=\"https://www.youtube.com/embed/Jd1jpt3pgc8\"\n",
       "            frameborder=\"0\"\n",
       "            allowfullscreen\n",
       "        ></iframe>\n",
       "        "
      ],
      "text/plain": [
       "<IPython.lib.display.YouTubeVideo at 0x7f69d03f93d0>"
      ]
     },
     "execution_count": 1,
     "metadata": {},
     "output_type": "execute_result"
    }
   ],
   "source": [
    "from IPython.display import YouTubeVideo\n",
    "YouTubeVideo('Jd1jpt3pgc8')"
   ]
  },
  {
   "cell_type": "markdown",
   "metadata": {},
   "source": [
    "This is the most complex task that we have programmed so far, thus it is a nice candidate for developing with the so-called [**top-down** approach](https://en.wikipedia.org/wiki/Top-down_and_bottom-up_design). With this methodology, we start with a high-level algorithm, and break it down into its components:\n",
    "\n",
    "    repeat forever\n",
    "        follow line until an obstacle is detected\n",
    "        get close to the wall\n",
    "        follow wall until a line is detected\n",
    "        get close to the line"
   ]
  },
  {
   "cell_type": "markdown",
   "metadata": {},
   "source": [
    "### Initialization\n",
    "First, we need to import all the required modules."
   ]
  },
  {
   "cell_type": "code",
   "execution_count": 203,
   "metadata": {
    "collapsed": true
   },
   "outputs": [],
   "source": [
    "import packages.initialization\n",
    "import pioneer3dx as p3dx\n",
    "p3dx.init()\n",
    "import cv2\n",
    "import numpy\n",
    "import math"
   ]
  },
  {
   "cell_type": "code",
   "execution_count": 204,
   "metadata": {
    "collapsed": true
   },
   "outputs": [],
   "source": [
    "MIN_WALL_THRESHOLD = 0.3\n",
    "MAX_WALL_THRESHOLD = 0.4\n",
    "    \n",
    "DEF_X_SPEED = 0.2       # default forward velocity\n",
    "DEF_YAW_SPEED = 0.15    # default turning velocity"
   ]
  },
  {
   "cell_type": "markdown",
   "metadata": {},
   "source": [
    "### Component functions\n",
    "The first function must return `True` if an obstacle is detected in front of the robot, or `False` otherwise."
   ]
  },
  {
   "cell_type": "code",
   "execution_count": 205,
   "metadata": {
    "collapsed": true
   },
   "outputs": [],
   "source": [
    "def is_obstacle_detected():\n",
    "    if min(p3dx.distance[3:5]) > MIN_WALL_THRESHOLD:\n",
    "        return False\n",
    "    else:\n",
    "        return True"
   ]
  },
  {
   "cell_type": "markdown",
   "metadata": {},
   "source": [
    "The second function is the line following behavior as seen in previous notebooks during this week."
   ]
  },
  {
   "cell_type": "code",
   "execution_count": 206,
   "metadata": {
    "collapsed": true
   },
   "outputs": [],
   "source": [
    "def follow_line():\n",
    "    print('Following the line')\n",
    "    width = p3dx.image.shape[1]\n",
    "    Kp = 0.1\n",
    "    while not is_obstacle_detected():\n",
    "        cx, cy = line_centroid(p3dx.image)\n",
    "        err = cx - (width/2)\n",
    "        linear = 2 #The linear velocity is constant, e.g. 2m/s\n",
    "        angular = - Kp * err # the angular velocity w\n",
    "        move(linear, angular)\n",
    "    print('Obstacle detected')"
   ]
  },
  {
   "cell_type": "markdown",
   "metadata": {},
   "source": [
    "The next function was developed in the previous week: the robot turns until it is approximately parallel to the wall."
   ]
  },
  {
   "cell_type": "code",
   "execution_count": 207,
   "metadata": {
    "collapsed": true
   },
   "outputs": [],
   "source": [
    "def getWall():\n",
    "    rightSide = p3dx.distance[7]\n",
    "    # turn until the wall is detected by sonar 0\n",
    "    while rightSide > MAX_WALL_THRESHOLD:\n",
    "        yawSpeed = DEF_YAW_SPEED * 3\n",
    "        move(0,yawSpeed)\n",
    "        rightSide = p3dx.distance[7]\n",
    "        \n",
    "    print('Prepare to follow the wall')\n",
    "    move(0,0)"
   ]
  },
  {
   "cell_type": "markdown",
   "metadata": {},
   "source": [
    "The next function is checked during the wall following behavior: it must return `True` when the line is again detected, or `False` otherwise."
   ]
  },
  {
   "cell_type": "code",
   "execution_count": 208,
   "metadata": {
    "collapsed": true
   },
   "outputs": [],
   "source": [
    "def is_line_detected():\n",
    "    cx, cy = line_centroid(p3dx.image)\n",
    "    if cx and cy is not 0:\n",
    "        return True\n",
    "    else:\n",
    "        return False    "
   ]
  },
  {
   "cell_type": "markdown",
   "metadata": {},
   "source": [
    "Next, we reuse the wall following behavior from previous week."
   ]
  },
  {
   "cell_type": "code",
   "execution_count": 209,
   "metadata": {
    "collapsed": true
   },
   "outputs": [],
   "source": [
    "def follow_wall():\n",
    "    print('Following the wall')\n",
    "    while not is_line_detected():\n",
    "        leftSide, frontSide, rightSide = getSonars()\n",
    "        # by default, just move forward\n",
    "        xSpeed = DEF_X_SPEED\n",
    "        yawSpeed = DEF_YAW_SPEED\n",
    "        # if we're getting too close to the wall with the front side...\n",
    "        if frontSide < MAX_WALL_THRESHOLD:\n",
    "            # go backward and turn right quickly (x4)\n",
    "            xSpeed = -0.1\n",
    "            yawSpeed = DEF_YAW_SPEED * 4 # !!! check sign\n",
    "        else:\n",
    "            # if we're getting too close to the wall with the left side...\n",
    "            if rightSide < MIN_WALL_THRESHOLD:\n",
    "                # move slowly forward (x0.5) and turn right\n",
    "                xSpeed  = DEF_X_SPEED * 0.5\n",
    "                yawSpeed = DEF_YAW_SPEED # !!! check sign\n",
    "            else:\n",
    "                # if we're getting too far away from the wall with the left side...\n",
    "                if rightSide > MIN_WALL_THRESHOLD:\n",
    "                    # move slowly forward (x0.5) and turn left\n",
    "                    xSpeed  = DEF_X_SPEED * 0.5\n",
    "                    yawSpeed = -DEF_YAW_SPEED # !!! check sign\n",
    "        # Move the robot\n",
    "        move(xSpeed,yawSpeed)\n",
    "    move(0,0)\n",
    "    print('Line detected')"
   ]
  },
  {
   "cell_type": "markdown",
   "metadata": {},
   "source": [
    "Finally, a function is needed for turning the robot slightly until it is approximately parallel to the line again."
   ]
  },
  {
   "cell_type": "code",
   "execution_count": 210,
   "metadata": {
    "collapsed": true
   },
   "outputs": [],
   "source": [
    "def getLine():\n",
    "    width = p3dx.image.shape[1]\n",
    "    Kp = 0.1\n",
    "    err = 100\n",
    "    while err > 10:\n",
    "        cx, cy = line_centroid(p3dx.image)\n",
    "        err = cx - (width/2)\n",
    "        linear = 2 #The linear velocity is constant, e.g. 2m/s\n",
    "        angular = - Kp * err # the angular velocity w\n",
    "        move(linear, angular)\n",
    "    move(0,0)"
   ]
  },
  {
   "cell_type": "markdown",
   "metadata": {},
   "source": [
    "Some additional lower-level functions are required (guess which ones?).\n",
    "\n",
    "You can define them in the next empty cell."
   ]
  },
  {
   "cell_type": "code",
   "execution_count": 211,
   "metadata": {
    "collapsed": false
   },
   "outputs": [],
   "source": [
    "# Lower-level functions\n",
    "def line_centroid(image):\n",
    "    hsv = cv2.cvtColor(p3dx.image, cv2.COLOR_RGB2HSV)\n",
    "    lower_cyan = numpy.array([80, 100, 100])\n",
    "    upper_cyan = numpy.array([100, 255, 255])\n",
    "    mask = cv2.inRange(hsv, lower_cyan, upper_cyan)\n",
    "    mask[0:80, 0:150] = 0\n",
    "    M = cv2.moments(mask)\n",
    "    if int(M['m00']) is not 0:\n",
    "        cx = int(M['m10']/M['m00'])\n",
    "        cy = int(M['m01']/M['m00'])\n",
    "        return cx, cy\n",
    "    else:\n",
    "        cx = 0\n",
    "        cy = 0\n",
    "        return cx, cy"
   ]
  },
  {
   "cell_type": "code",
   "execution_count": 212,
   "metadata": {
    "collapsed": true
   },
   "outputs": [],
   "source": [
    "def move(V_robot,w_robot):\n",
    "    r = 0.1953 / 2\n",
    "    L = 0.33\n",
    "    w_r = (2 * V_robot + L * w_robot) / (2*r)\n",
    "    w_l = (2 * V_robot - L * w_robot) / (2*r)\n",
    "    p3dx.move(w_l, w_r)"
   ]
  },
  {
   "cell_type": "code",
   "execution_count": 213,
   "metadata": {
    "collapsed": true
   },
   "outputs": [],
   "source": [
    "def getSonars():\n",
    "    leftSide = min(p3dx.distance[0:3])\n",
    "    frontSide = min(p3dx.distance[3:5])\n",
    "    rightSide = min(p3dx.distance[5:])\n",
    "    return leftSide, frontSide, rightSide"
   ]
  },
  {
   "cell_type": "markdown",
   "metadata": {},
   "source": [
    "### Main loop\n",
    "The main loop looks very similar to the proposed algorithm:"
   ]
  },
  {
   "cell_type": "code",
   "execution_count": 214,
   "metadata": {
    "collapsed": false
   },
   "outputs": [
    {
     "name": "stdout",
     "output_type": "stream",
     "text": [
      "Following the line\n",
      "Obstacle detected\n",
      "Prepare to follow the wall\n",
      "Following the wall\n",
      "Line detected\n",
      "Following the line\n",
      "Obstacle detected\n",
      "Prepare to follow the wall\n",
      "Following the wall\n",
      "Line detected\n",
      "Following the line\n",
      "Obstacle detected\n",
      "Prepare to follow the wall\n",
      "Following the wall\n",
      "Line detected\n",
      "Following the line\n",
      "Obstacle detected\n",
      "Prepare to follow the wall\n",
      "Following the wall\n",
      "Line detected\n",
      "Following the line\n",
      "Obstacle detected\n",
      "Prepare to follow the wall\n",
      "Following the wall\n",
      "Line detected\n",
      "Following the line\n"
     ]
    },
    {
     "ename": "Exception",
     "evalue": "The robot needs initialization - has the simulation been restarted?",
     "output_type": "error",
     "traceback": [
      "\u001b[1;31m---------------------------------------------------------------------------\u001b[0m",
      "\u001b[1;31mException\u001b[0m                                 Traceback (most recent call last)",
      "\u001b[1;32m<ipython-input-214-d10f035d9edf>\u001b[0m in \u001b[0;36m<module>\u001b[1;34m()\u001b[0m\n\u001b[0;32m      2\u001b[0m \u001b[1;32mtry\u001b[0m\u001b[1;33m:\u001b[0m\u001b[1;33m\u001b[0m\u001b[0m\n\u001b[0;32m      3\u001b[0m     \u001b[1;32mwhile\u001b[0m \u001b[0mTrue\u001b[0m\u001b[1;33m:\u001b[0m\u001b[1;33m\u001b[0m\u001b[0m\n\u001b[1;32m----> 4\u001b[1;33m         \u001b[0mfollow_line\u001b[0m\u001b[1;33m(\u001b[0m\u001b[1;33m)\u001b[0m\u001b[1;33m\u001b[0m\u001b[0m\n\u001b[0m\u001b[0;32m      5\u001b[0m         \u001b[0mgetWall\u001b[0m\u001b[1;33m(\u001b[0m\u001b[1;33m)\u001b[0m\u001b[1;33m\u001b[0m\u001b[0m\n\u001b[0;32m      6\u001b[0m         \u001b[0mfollow_wall\u001b[0m\u001b[1;33m(\u001b[0m\u001b[1;33m)\u001b[0m\u001b[1;33m\u001b[0m\u001b[0m\n",
      "\u001b[1;32m<ipython-input-206-202cc80d164d>\u001b[0m in \u001b[0;36mfollow_line\u001b[1;34m()\u001b[0m\n\u001b[0;32m      8\u001b[0m         \u001b[0mlinear\u001b[0m \u001b[1;33m=\u001b[0m \u001b[1;36m2\u001b[0m \u001b[1;31m#The linear velocity is constant, e.g. 2m/s\u001b[0m\u001b[1;33m\u001b[0m\u001b[0m\n\u001b[0;32m      9\u001b[0m         \u001b[0mangular\u001b[0m \u001b[1;33m=\u001b[0m \u001b[1;33m-\u001b[0m \u001b[0mKp\u001b[0m \u001b[1;33m*\u001b[0m \u001b[0merr\u001b[0m \u001b[1;31m# the angular velocity w\u001b[0m\u001b[1;33m\u001b[0m\u001b[0m\n\u001b[1;32m---> 10\u001b[1;33m         \u001b[0mmove\u001b[0m\u001b[1;33m(\u001b[0m\u001b[0mlinear\u001b[0m\u001b[1;33m,\u001b[0m \u001b[0mangular\u001b[0m\u001b[1;33m)\u001b[0m\u001b[1;33m\u001b[0m\u001b[0m\n\u001b[0m\u001b[0;32m     11\u001b[0m     \u001b[1;32mprint\u001b[0m\u001b[1;33m(\u001b[0m\u001b[1;34m'Obstacle detected'\u001b[0m\u001b[1;33m)\u001b[0m\u001b[1;33m\u001b[0m\u001b[0m\n",
      "\u001b[1;32m<ipython-input-212-989ef4651fcb>\u001b[0m in \u001b[0;36mmove\u001b[1;34m(V_robot, w_robot)\u001b[0m\n\u001b[0;32m      4\u001b[0m     \u001b[0mw_r\u001b[0m \u001b[1;33m=\u001b[0m \u001b[1;33m(\u001b[0m\u001b[1;36m2\u001b[0m \u001b[1;33m*\u001b[0m \u001b[0mV_robot\u001b[0m \u001b[1;33m+\u001b[0m \u001b[0mL\u001b[0m \u001b[1;33m*\u001b[0m \u001b[0mw_robot\u001b[0m\u001b[1;33m)\u001b[0m \u001b[1;33m/\u001b[0m \u001b[1;33m(\u001b[0m\u001b[1;36m2\u001b[0m\u001b[1;33m*\u001b[0m\u001b[0mr\u001b[0m\u001b[1;33m)\u001b[0m\u001b[1;33m\u001b[0m\u001b[0m\n\u001b[0;32m      5\u001b[0m     \u001b[0mw_l\u001b[0m \u001b[1;33m=\u001b[0m \u001b[1;33m(\u001b[0m\u001b[1;36m2\u001b[0m \u001b[1;33m*\u001b[0m \u001b[0mV_robot\u001b[0m \u001b[1;33m-\u001b[0m \u001b[0mL\u001b[0m \u001b[1;33m*\u001b[0m \u001b[0mw_robot\u001b[0m\u001b[1;33m)\u001b[0m \u001b[1;33m/\u001b[0m \u001b[1;33m(\u001b[0m\u001b[1;36m2\u001b[0m\u001b[1;33m*\u001b[0m\u001b[0mr\u001b[0m\u001b[1;33m)\u001b[0m\u001b[1;33m\u001b[0m\u001b[0m\n\u001b[1;32m----> 6\u001b[1;33m     \u001b[0mp3dx\u001b[0m\u001b[1;33m.\u001b[0m\u001b[0mmove\u001b[0m\u001b[1;33m(\u001b[0m\u001b[0mw_l\u001b[0m\u001b[1;33m,\u001b[0m \u001b[0mw_r\u001b[0m\u001b[1;33m)\u001b[0m\u001b[1;33m\u001b[0m\u001b[0m\n\u001b[0m",
      "\u001b[1;32m/home/user/.tc_webots/catkin_ws/ipython/packages/pioneer3dx.pyc\u001b[0m in \u001b[0;36mmove\u001b[1;34m(ls, rs)\u001b[0m\n\u001b[0;32m     78\u001b[0m \u001b[1;33m\u001b[0m\u001b[0m\n\u001b[0;32m     79\u001b[0m \u001b[1;33m\u001b[0m\u001b[0m\n\u001b[1;32m---> 80\u001b[1;33m             \u001b[1;32mraise\u001b[0m \u001b[0mException\u001b[0m\u001b[1;33m(\u001b[0m\u001b[1;34m'The robot needs initialization - has the simulation been restarted?'\u001b[0m\u001b[1;33m)\u001b[0m\u001b[1;33m\u001b[0m\u001b[0m\n\u001b[0m\u001b[0;32m     81\u001b[0m \u001b[1;33m\u001b[0m\u001b[0m\n\u001b[0;32m     82\u001b[0m \u001b[1;33m\u001b[0m\u001b[0m\n",
      "\u001b[1;31mException\u001b[0m: The robot needs initialization - has the simulation been restarted?"
     ]
    }
   ],
   "source": [
    "p3dx.tilt(-0.47)\n",
    "try:\n",
    "    while True:\n",
    "        follow_line()\n",
    "        getWall()\n",
    "        follow_wall()\n",
    "        getLine()\n",
    "except KeyboardInterrupt:\n",
    "    move(0,0)"
   ]
  },
  {
   "cell_type": "markdown",
   "metadata": {},
   "source": [
    "Did it work? Congratulations, you have completed the task of this week!"
   ]
  },
  {
   "cell_type": "markdown",
   "metadata": {},
   "source": [
    "---\n",
    "#### Try-a-Bot: an open source guide for robot programming\n",
    "Developed by:\n",
    "[![Robotic Intelligence Lab @ UJI](img/logo/robinlab.png \"Robotic Intelligence Lab @ UJI\")](http://robinlab.uji.es)\n",
    "\n",
    "Sponsored by:\n",
    "<table>\n",
    "<tr>\n",
    "<td style=\"border:1px solid #ffffff ;\">\n",
    "<a href=\"http://www.ieee-ras.org\"><img src=\"img/logo/ras.png\"></a>\n",
    "</td>\n",
    "<td style=\"border:1px solid #ffffff ;\">\n",
    "<a href=\"http://www.cyberbotics.com\"><img src=\"img/logo/cyberbotics.png\"></a>\n",
    "</td>\n",
    "<td style=\"border:1px solid #ffffff ;\">\n",
    "<a href=\"http://www.theconstructsim.com\"><img src=\"img/logo/theconstruct.png\"></a>\n",
    "</td>\n",
    "</tr>\n",
    "</table>\n",
    "\n",
    "Follow us:\n",
    "<table>\n",
    "<tr>\n",
    "<td style=\"border:1px solid #ffffff ;\">\n",
    "<a href=\"https://www.facebook.com/RobotProgrammingNetwork\"><img src=\"img/logo/facebook.png\"></a>\n",
    "</td>\n",
    "<td style=\"border:1px solid #ffffff ;\">\n",
    "<a href=\"https://www.youtube.com/user/robotprogrammingnet\"><img src=\"img/logo/youtube.png\"></a>\n",
    "</td>\n",
    "</tr>\n",
    "</table>"
   ]
  }
 ],
 "metadata": {
  "kernelspec": {
   "display_name": "Python 2",
   "language": "python",
   "name": "python2"
  },
  "language_info": {
   "codemirror_mode": {
    "name": "ipython",
    "version": 2
   },
   "file_extension": ".py",
   "mimetype": "text/x-python",
   "name": "python",
   "nbconvert_exporter": "python",
   "pygments_lexer": "ipython2",
   "version": "2.7.11"
  }
 },
 "nbformat": 4,
 "nbformat_minor": 0
}
