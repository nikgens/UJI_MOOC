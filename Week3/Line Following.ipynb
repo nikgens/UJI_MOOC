{
 "cells": [
  {
   "cell_type": "markdown",
   "metadata": {},
   "source": [
    "## Line Following\n",
    "\n",
    "<img align=\"right\" src=\"img/line_following.png\" />\n",
    "Up to now, we have worked up a line detection algorithm. Now that this scheme is up an running, we can move on to the task of driving the robot such that the line stays near the center of the camera image.\n",
    "\n",
    "We propose to use [a *proportional* controller](https://en.wikipedia.org/wiki/Proportional_control), which means that a linear scaling of an error drives the control output. In this case, the error signal is the distance between the center of the image and the center of the line that we are trying to follow. The control output is the steering (angular velocity) of the robot.\n"
   ]
  },
  {
   "cell_type": "code",
   "execution_count": 29,
   "metadata": {
    "collapsed": false
   },
   "outputs": [],
   "source": [
    "import packages.initialization\n",
    "import pioneer3dx as p3dx\n",
    "p3dx.init()"
   ]
  },
  {
   "cell_type": "code",
   "execution_count": 30,
   "metadata": {
    "collapsed": false
   },
   "outputs": [],
   "source": [
    "import cv2\n",
    "import numpy"
   ]
  },
  {
   "cell_type": "markdown",
   "metadata": {},
   "source": [
    "### Image processing\n",
    "Fill in the necessary code in the following function, which computes the centroid of the line of the image passed as an argument, as explained in the previous notebook."
   ]
  },
  {
   "cell_type": "code",
   "execution_count": 31,
   "metadata": {
    "collapsed": true
   },
   "outputs": [],
   "source": [
    "def line_centroid(image):\n",
    "    hsv = cv2.cvtColor(p3dx.image, cv2.COLOR_RGB2HSV)\n",
    "    lower_cyan = numpy.array([80, 100, 100])\n",
    "    upper_cyan = numpy.array([100, 255, 255])\n",
    "    mask = cv2.inRange(hsv, lower_cyan, upper_cyan)\n",
    "    mask[0:80, 0:150] = 0\n",
    "    M = cv2.moments(mask)\n",
    "    cx = int(M['m10']/M['m00'])\n",
    "    cy = int(M['m01']/M['m00'])\n",
    "    return cx, cy"
   ]
  },
  {
   "cell_type": "markdown",
   "metadata": {},
   "source": [
    "We need the code for the motion of the robot with the given linear and angular velocities, as in previous modules."
   ]
  },
  {
   "cell_type": "code",
   "execution_count": 32,
   "metadata": {
    "collapsed": true
   },
   "outputs": [],
   "source": [
    "def move(V_robot,w_robot):\n",
    "    r = 0.1953 / 2\n",
    "    L = 0.33\n",
    "    w_r = (2 * V_robot + L * w_robot) / (2*r)\n",
    "    w_l = (2 * V_robot - L * w_robot) / (2*r)\n",
    "    p3dx.move(w_l, w_r)"
   ]
  },
  {
   "cell_type": "markdown",
   "metadata": {},
   "source": [
    "### Main loop\n",
    "This is the main control loop. The error should be computed as:\n",
    "\n",
    "$$ err = C_x - \\frac{width}{2} $$\n",
    "\n",
    "where $C_x$ is the $x$-coordinate of the centroid, and $width$ is the width of the image.\n",
    "\n",
    "The linear velocity is constant, e.g. $2 m/s$ and the angular velocity $\\omega$ is computed as:\n",
    "\n",
    "$$ \\omega = -K_p err $$\n",
    "\n",
    "where $K_p$ is the gain of the proportional controller, which can be set to $0.01$."
   ]
  },
  {
   "cell_type": "code",
   "execution_count": 27,
   "metadata": {
    "collapsed": false
   },
   "outputs": [
    {
     "data": {
      "text/plain": [
       "100"
      ]
     },
     "execution_count": 27,
     "metadata": {},
     "output_type": "execute_result"
    }
   ],
   "source": [
    "p3dx.image.shape[1]"
   ]
  },
  {
   "cell_type": "code",
   "execution_count": 33,
   "metadata": {
    "collapsed": false
   },
   "outputs": [
    {
     "name": "stdout",
     "output_type": "stream",
     "text": [
      "(20, 90)\n",
      "(18, 90)\n",
      "(31, 90)\n",
      "(46, 89)\n",
      "(54, 90)\n",
      "(66, 89)\n",
      "(70, 88)\n",
      "(71, 87)\n",
      "(72, 87)\n",
      "(72, 87)\n",
      "(73, 86)\n",
      "(73, 87)\n",
      "(72, 87)\n",
      "(71, 86)\n",
      "(71, 86)\n",
      "(73, 87)\n",
      "(75, 87)\n",
      "(76, 87)\n",
      "(77, 87)\n",
      "(77, 87)\n",
      "(76, 87)\n",
      "(76, 87)\n",
      "(75, 87)\n",
      "(74, 87)\n",
      "(74, 87)\n",
      "(74, 87)\n",
      "(74, 87)\n",
      "(74, 87)\n",
      "(74, 87)\n",
      "(74, 87)\n",
      "(74, 87)\n",
      "(74, 87)\n",
      "(74, 87)\n",
      "(74, 86)\n",
      "(74, 87)\n",
      "(74, 87)\n",
      "(75, 87)\n",
      "(75, 87)\n",
      "(75, 87)\n",
      "(75, 87)\n",
      "(75, 87)\n",
      "(75, 87)\n",
      "(75, 87)\n",
      "(74, 87)\n",
      "(75, 87)\n",
      "(75, 87)\n",
      "(78, 86)\n",
      "(85, 87)\n",
      "(88, 87)\n",
      "(88, 87)\n",
      "(89, 87)\n",
      "(89, 87)\n",
      "(85, 87)\n",
      "(81, 87)\n",
      "(75, 86)\n",
      "(48, 85)\n",
      "(39, 87)\n",
      "(35, 87)\n",
      "(21, 87)\n",
      "(19, 87)\n",
      "(20, 87)\n",
      "(22, 87)\n",
      "(24, 87)\n",
      "(24, 86)\n",
      "(23, 86)\n",
      "(24, 86)\n",
      "(20, 87)\n",
      "(21, 87)\n",
      "(22, 87)\n",
      "(25, 86)\n",
      "(35, 86)\n",
      "(45, 86)\n",
      "(49, 86)\n",
      "(53, 86)\n",
      "(58, 86)\n",
      "(62, 86)\n",
      "(63, 86)\n",
      "(64, 86)\n",
      "(65, 86)\n",
      "(65, 86)\n",
      "(67, 86)\n",
      "(68, 86)\n",
      "(69, 86)\n",
      "(70, 86)\n",
      "(71, 86)\n",
      "(71, 87)\n",
      "(72, 86)\n",
      "(72, 86)\n",
      "(72, 86)\n",
      "(73, 86)\n",
      "(74, 86)\n",
      "(74, 87)\n",
      "(74, 87)\n",
      "(74, 87)\n",
      "(74, 87)\n",
      "(74, 87)\n",
      "(74, 87)\n",
      "(74, 87)\n",
      "(74, 87)\n",
      "(74, 87)\n",
      "(74, 87)\n",
      "(75, 87)\n",
      "(75, 87)\n",
      "(75, 87)\n",
      "(76, 87)\n",
      "(76, 87)\n",
      "(75, 87)\n",
      "(74, 87)\n",
      "(74, 87)\n",
      "(74, 87)\n",
      "(75, 87)\n",
      "(76, 87)\n",
      "(76, 87)\n",
      "(75, 87)\n",
      "(75, 87)\n",
      "(75, 87)\n",
      "(75, 87)\n",
      "(74, 87)\n",
      "(75, 87)\n",
      "(75, 87)\n",
      "(75, 87)\n",
      "(75, 87)\n",
      "(75, 86)\n",
      "(75, 87)\n",
      "(75, 87)\n",
      "(75, 87)\n",
      "(74, 86)\n",
      "(75, 87)\n",
      "(75, 86)\n",
      "(75, 87)\n",
      "(74, 87)\n",
      "(75, 87)\n",
      "(76, 87)\n",
      "(76, 87)\n",
      "(76, 87)\n",
      "(75, 87)\n",
      "(75, 87)\n",
      "(75, 87)\n",
      "(76, 87)\n",
      "(75, 86)\n",
      "(75, 87)\n",
      "(68, 87)\n",
      "(59, 86)\n",
      "(60, 86)\n",
      "(62, 86)\n",
      "(65, 86)\n",
      "(64, 86)\n",
      "(61, 86)\n",
      "(56, 86)\n",
      "(54, 86)\n",
      "(50, 86)\n",
      "(48, 86)\n",
      "(45, 86)\n",
      "(43, 86)\n",
      "(39, 86)\n",
      "(38, 86)\n",
      "(39, 86)\n",
      "(40, 87)\n",
      "(37, 87)\n",
      "(33, 87)\n",
      "(31, 87)\n",
      "(31, 87)\n",
      "(35, 86)\n",
      "(42, 86)\n",
      "(45, 86)\n",
      "(47, 86)\n",
      "(51, 86)\n",
      "(54, 86)\n",
      "(57, 86)\n",
      "(58, 86)\n",
      "(60, 86)\n",
      "(61, 86)\n",
      "(62, 86)\n",
      "(62, 86)\n",
      "(62, 86)\n",
      "(62, 86)\n",
      "(65, 86)\n",
      "(67, 86)\n",
      "(69, 86)\n",
      "(70, 86)\n",
      "(72, 91)\n"
     ]
    },
    {
     "ename": "ZeroDivisionError",
     "evalue": "float division by zero",
     "output_type": "error",
     "traceback": [
      "\u001b[1;31m---------------------------------------------------------------------------\u001b[0m",
      "\u001b[1;31mZeroDivisionError\u001b[0m                         Traceback (most recent call last)",
      "\u001b[1;32m<ipython-input-33-168a521d7dac>\u001b[0m in \u001b[0;36m<module>\u001b[1;34m()\u001b[0m\n\u001b[0;32m      4\u001b[0m     \u001b[0mKp\u001b[0m \u001b[1;33m=\u001b[0m \u001b[1;36m0.1\u001b[0m\u001b[1;33m\u001b[0m\u001b[0m\n\u001b[0;32m      5\u001b[0m     \u001b[1;32mwhile\u001b[0m \u001b[0mTrue\u001b[0m\u001b[1;33m:\u001b[0m\u001b[1;33m\u001b[0m\u001b[0m\n\u001b[1;32m----> 6\u001b[1;33m         \u001b[0mcx\u001b[0m\u001b[1;33m,\u001b[0m \u001b[0mcy\u001b[0m \u001b[1;33m=\u001b[0m \u001b[0mline_centroid\u001b[0m\u001b[1;33m(\u001b[0m\u001b[0mp3dx\u001b[0m\u001b[1;33m.\u001b[0m\u001b[0mimage\u001b[0m\u001b[1;33m)\u001b[0m\u001b[1;33m\u001b[0m\u001b[0m\n\u001b[0m\u001b[0;32m      7\u001b[0m         \u001b[0merr\u001b[0m \u001b[1;33m=\u001b[0m \u001b[0mcx\u001b[0m \u001b[1;33m-\u001b[0m \u001b[1;33m(\u001b[0m\u001b[0mwidth\u001b[0m\u001b[1;33m/\u001b[0m\u001b[1;36m2\u001b[0m\u001b[1;33m)\u001b[0m\u001b[1;33m\u001b[0m\u001b[0m\n\u001b[0;32m      8\u001b[0m         \u001b[0mlinear\u001b[0m \u001b[1;33m=\u001b[0m \u001b[1;36m2\u001b[0m \u001b[1;31m#The linear velocity is constant, e.g. 2m/s\u001b[0m\u001b[1;33m\u001b[0m\u001b[0m\n",
      "\u001b[1;32m<ipython-input-31-b0d8f6f429a6>\u001b[0m in \u001b[0;36mline_centroid\u001b[1;34m(image)\u001b[0m\n\u001b[0;32m      6\u001b[0m     \u001b[0mmask\u001b[0m\u001b[1;33m[\u001b[0m\u001b[1;36m0\u001b[0m\u001b[1;33m:\u001b[0m\u001b[1;36m80\u001b[0m\u001b[1;33m,\u001b[0m \u001b[1;36m0\u001b[0m\u001b[1;33m:\u001b[0m\u001b[1;36m150\u001b[0m\u001b[1;33m]\u001b[0m \u001b[1;33m=\u001b[0m \u001b[1;36m0\u001b[0m\u001b[1;33m\u001b[0m\u001b[0m\n\u001b[0;32m      7\u001b[0m     \u001b[0mM\u001b[0m \u001b[1;33m=\u001b[0m \u001b[0mcv2\u001b[0m\u001b[1;33m.\u001b[0m\u001b[0mmoments\u001b[0m\u001b[1;33m(\u001b[0m\u001b[0mmask\u001b[0m\u001b[1;33m)\u001b[0m\u001b[1;33m\u001b[0m\u001b[0m\n\u001b[1;32m----> 8\u001b[1;33m     \u001b[0mcx\u001b[0m \u001b[1;33m=\u001b[0m \u001b[0mint\u001b[0m\u001b[1;33m(\u001b[0m\u001b[0mM\u001b[0m\u001b[1;33m[\u001b[0m\u001b[1;34m'm10'\u001b[0m\u001b[1;33m]\u001b[0m\u001b[1;33m/\u001b[0m\u001b[0mM\u001b[0m\u001b[1;33m[\u001b[0m\u001b[1;34m'm00'\u001b[0m\u001b[1;33m]\u001b[0m\u001b[1;33m)\u001b[0m\u001b[1;33m\u001b[0m\u001b[0m\n\u001b[0m\u001b[0;32m      9\u001b[0m     \u001b[0mcy\u001b[0m \u001b[1;33m=\u001b[0m \u001b[0mint\u001b[0m\u001b[1;33m(\u001b[0m\u001b[0mM\u001b[0m\u001b[1;33m[\u001b[0m\u001b[1;34m'm01'\u001b[0m\u001b[1;33m]\u001b[0m\u001b[1;33m/\u001b[0m\u001b[0mM\u001b[0m\u001b[1;33m[\u001b[0m\u001b[1;34m'm00'\u001b[0m\u001b[1;33m]\u001b[0m\u001b[1;33m)\u001b[0m\u001b[1;33m\u001b[0m\u001b[0m\n\u001b[0;32m     10\u001b[0m     \u001b[1;32mprint\u001b[0m \u001b[1;33m(\u001b[0m\u001b[0mcx\u001b[0m\u001b[1;33m,\u001b[0m \u001b[0mcy\u001b[0m\u001b[1;33m)\u001b[0m\u001b[1;33m\u001b[0m\u001b[0m\n",
      "\u001b[1;31mZeroDivisionError\u001b[0m: float division by zero"
     ]
    }
   ],
   "source": [
    "p3dx.tilt(-0.47) # tilt down the Kinect\n",
    "try:\n",
    "    width = p3dx.image.shape[1]\n",
    "    Kp = 0.1\n",
    "    while True:\n",
    "        cx, cy = line_centroid(p3dx.image)\n",
    "        err = cx - (width/2)\n",
    "        linear = 2 #The linear velocity is constant, e.g. 2m/s\n",
    "        angular = - Kp * err # the angular velocity w\n",
    "        move(linear, angular)\n",
    "except KeyboardInterrupt:\n",
    "    move(0,0)"
   ]
  },
  {
   "cell_type": "markdown",
   "metadata": {},
   "source": [
    "Next: [Line Following with Obstacle Avoidance](Line%20Following%20Obstacle.ipynb)"
   ]
  },
  {
   "cell_type": "markdown",
   "metadata": {},
   "source": [
    "---\n",
    "#### Try-a-Bot: an open source guide for robot programming\n",
    "Developed by:\n",
    "[![Robotic Intelligence Lab @ UJI](img/logo/robinlab.png \"Robotic Intelligence Lab @ UJI\")](http://robinlab.uji.es)\n",
    "\n",
    "Sponsored by:\n",
    "<table>\n",
    "<tr>\n",
    "<td style=\"border:1px solid #ffffff ;\">\n",
    "<a href=\"http://www.ieee-ras.org\"><img src=\"img/logo/ras.png\"></a>\n",
    "</td>\n",
    "<td style=\"border:1px solid #ffffff ;\">\n",
    "<a href=\"http://www.cyberbotics.com\"><img src=\"img/logo/cyberbotics.png\"></a>\n",
    "</td>\n",
    "<td style=\"border:1px solid #ffffff ;\">\n",
    "<a href=\"http://www.theconstructsim.com\"><img src=\"img/logo/theconstruct.png\"></a>\n",
    "</td>\n",
    "</tr>\n",
    "</table>\n",
    "\n",
    "Follow us:\n",
    "<table>\n",
    "<tr>\n",
    "<td style=\"border:1px solid #ffffff ;\">\n",
    "<a href=\"https://www.facebook.com/RobotProgrammingNetwork\"><img src=\"img/logo/facebook.png\"></a>\n",
    "</td>\n",
    "<td style=\"border:1px solid #ffffff ;\">\n",
    "<a href=\"https://www.youtube.com/user/robotprogrammingnet\"><img src=\"img/logo/youtube.png\"></a>\n",
    "</td>\n",
    "</tr>\n",
    "</table>"
   ]
  }
 ],
 "metadata": {
  "kernelspec": {
   "display_name": "Python 2",
   "language": "python",
   "name": "python2"
  },
  "language_info": {
   "codemirror_mode": {
    "name": "ipython",
    "version": 2
   },
   "file_extension": ".py",
   "mimetype": "text/x-python",
   "name": "python",
   "nbconvert_exporter": "python",
   "pygments_lexer": "ipython2",
   "version": "2.7.11"
  }
 },
 "nbformat": 4,
 "nbformat_minor": 0
}
