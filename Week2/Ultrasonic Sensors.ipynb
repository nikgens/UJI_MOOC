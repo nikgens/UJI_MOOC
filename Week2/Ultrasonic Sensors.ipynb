{
 "cells": [
  {
   "cell_type": "markdown",
   "metadata": {},
   "source": [
    "[<img align=\"right\" src=\"img/sonar_sensors.png\" />](https://www.generationrobots.com/en/content/65-ultrasonic-sonar-sensors-for-robots)\n",
    "# Ultrasonic Sensors\n",
    "Ultrasonic sensors work by measuring the return time of a high-frequency sound wave emitted by the sensor (over 20,000 Hz, which is therefore inaudible to humans). As the speed of sound is essentially known, the obstacle’s distance can then be deduced.\n",
    "\n",
    "The distance $d$ of the object causing the reflection is:\n",
    "\n",
    "$$ d = \\frac{c \\cdot t}{2} $$\n",
    "\n",
    "where $c$ is the speed of the sound (343 m/s in air at standard pressure and 20ºC) and $t$ is the time of flight."
   ]
  },
  {
   "cell_type": "markdown",
   "metadata": {},
   "source": [
    "The Pioneer 3-DX robot includes 8 forward-facing ultrasonic sensors, and 8 optional rear-facing sonar for distance measurements. In the simulations of this course, we are going to use only the forward-facing set of sensors."
   ]
  },
  {
   "cell_type": "code",
   "execution_count": 1,
   "metadata": {
    "collapsed": false
   },
   "outputs": [],
   "source": [
    "import packages.initialization\n",
    "import pioneer3dx as p3dx\n",
    "p3dx.init()"
   ]
  },
  {
   "cell_type": "markdown",
   "metadata": {},
   "source": [
    "With the following GUI widget you can move the robot around."
   ]
  },
  {
   "cell_type": "code",
   "execution_count": 2,
   "metadata": {
    "collapsed": false,
    "scrolled": true
   },
   "outputs": [],
   "source": [
    "%matplotlib inline\n",
    "import ultrasonic\n",
    "import motion_widget"
   ]
  },
  {
   "cell_type": "markdown",
   "metadata": {},
   "source": [
    "And you can plot a diagram with the position of the robot in the environment, and the measurements of the ultrasonic sensors."
   ]
  },
  {
   "cell_type": "code",
   "execution_count": null,
   "metadata": {
    "collapsed": false
   },
   "outputs": [],
   "source": [
    "ultrasonic.plot()"
   ]
  },
  {
   "cell_type": "markdown",
   "metadata": {},
   "source": [
    "The values of the measurements are stored in an array:"
   ]
  },
  {
   "cell_type": "code",
   "execution_count": null,
   "metadata": {
    "collapsed": false
   },
   "outputs": [],
   "source": [
    "p3dx.distance"
   ]
  },
  {
   "cell_type": "markdown",
   "metadata": {},
   "source": [
    "[<img align=\"right\" src=\"img/front_sonar.png\" />](https://www.cyberbotics.com/doc/guide/using-the-pioneer-3-at-and-pioneer-3-dx-robots)\n",
    "The sensors are numbered from 0 to 7 starting from the left side of the robot, in clockwise order (see the figure).\n",
    "\n",
    "Each measurement can be read individually with the appropriate index in the array, e.g. the first measurement is\n",
    "\n",
    "`p3dx.distance[0]`\n",
    "\n",
    "The following code uses a `for` loop for displaying the values of the eight sensors with a precision of three digits. Even if the robot is not moving, the values are likely to be different from those measured above, because of the (simulated) noise in the readings."
   ]
  },
  {
   "cell_type": "code",
   "execution_count": null,
   "metadata": {
    "collapsed": false
   },
   "outputs": [],
   "source": [
    "for i in range(8):\n",
    "    print(\"so%d: %.3f m\" % (i, p3dx.distance[i]))"
   ]
  },
  {
   "cell_type": "markdown",
   "metadata": {},
   "source": [
    "Let's test the sensors in a first simple application: [detecting obstacles](Detecting%20Obstacles.ipynb)."
   ]
  }
 ],
 "metadata": {
  "kernelspec": {
   "display_name": "Python 2",
   "language": "python",
   "name": "python2"
  },
  "language_info": {
   "codemirror_mode": {
    "name": "ipython",
    "version": 2
   },
   "file_extension": ".py",
   "mimetype": "text/x-python",
   "name": "python",
   "nbconvert_exporter": "python",
   "pygments_lexer": "ipython2",
   "version": "2.7.11"
  }
 },
 "nbformat": 4,
 "nbformat_minor": 0
}
