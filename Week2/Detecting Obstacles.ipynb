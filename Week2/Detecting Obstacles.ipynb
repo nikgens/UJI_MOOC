{
 "cells": [
  {
   "cell_type": "markdown",
   "metadata": {},
   "source": [
    "<img align=\"right\" src=\"img/threshold_240.png\" />\n",
    "# Detecting Obstacles\n",
    "\n",
    "An obstacle can be detected by comparing the values returned by the ultrasonic sensor with a predefined _**distance threshold**_.\n",
    "\n",
    "For values below that threshold, the detected obstacle is considered too close to the robot, and an action should be taken, for example stopping and/or turning, in order to avoid collision.\n",
    "\n",
    "In the example figure, the value of sensor 3 is less than the threshold (represented by the dotted circle), as signaled by the green arrow."
   ]
  },
  {
   "cell_type": "code",
   "execution_count": 27,
   "metadata": {
    "collapsed": false
   },
   "outputs": [],
   "source": [
    "import packages.initialization\n",
    "import pioneer3dx as p3dx\n",
    "p3dx.init()"
   ]
  },
  {
   "cell_type": "markdown",
   "metadata": {},
   "source": [
    "#### Exercise:\n",
    "\n",
    "Make a program for the robot to move forward until any of the front sensors (numbered 3 and 4) detects an obstacle below a given distance threshold, for example 1 meter. Use the following template code:"
   ]
  },
  {
   "cell_type": "code",
   "execution_count": 28,
   "metadata": {
    "collapsed": false,
    "scrolled": true
   },
   "outputs": [],
   "source": [
    "distance = 1 #distance threshold\n",
    "while p3dx.distance[3] > distance and p3dx.distance[4] > distance:\n",
    "    p3dx.move(2.5,2.5)\n",
    "    p3dx.distance\n",
    "p3dx.stop()"
   ]
  },
  {
   "cell_type": "markdown",
   "metadata": {},
   "source": [
    "You may confirm the proper functioning of your code with the following test:"
   ]
  },
  {
   "cell_type": "code",
   "execution_count": 29,
   "metadata": {
    "collapsed": false
   },
   "outputs": [
    {
     "name": "stdout",
     "output_type": "stream",
     "text": [
      "Sensor 3: 0.985 m\n",
      "Sensor 4: 0.974 m\n"
     ]
    }
   ],
   "source": [
    "for i in range(3,5):\n",
    "    print(\"Sensor %d: %.3f m\" % (i, p3dx.distance[i]))"
   ]
  },
  {
   "cell_type": "markdown",
   "metadata": {},
   "source": [
    "And you can plot a diagram with the position of the robot in the environment, and the measurements of the ultrasonic sensors.\n",
    "\n",
    "The plot is not updated automatically as the robot moves. You need to click on the \"Refresh\" button."
   ]
  },
  {
   "cell_type": "code",
   "execution_count": 30,
   "metadata": {
    "collapsed": false
   },
   "outputs": [
    {
     "data": {
      "image/png": "[encoded data removed]",
      "text/plain": [
       "<matplotlib.figure.Figure at 0x7f3ed4b04390>"
      ]
     },
     "metadata": {},
     "output_type": "display_data"
    }
   ],
   "source": [
    "%matplotlib inline\n",
    "import ultrasonic\n",
    "ultrasonic.plot()"
   ]
  },
  {
   "cell_type": "markdown",
   "metadata": {},
   "source": [
    "Let's try the next step: [searching for free space](Searching%20Space.ipynb)."
   ]
  }
 ],
 "metadata": {
  "kernelspec": {
   "display_name": "Python 2",
   "language": "python",
   "name": "python2"
  },
  "language_info": {
   "codemirror_mode": {
    "name": "ipython",
    "version": 2
   },
   "file_extension": ".py",
   "mimetype": "text/x-python",
   "name": "python",
   "nbconvert_exporter": "python",
   "pygments_lexer": "ipython2",
   "version": "2.7.11"
  }
 },
 "nbformat": 4,
 "nbformat_minor": 0
}
