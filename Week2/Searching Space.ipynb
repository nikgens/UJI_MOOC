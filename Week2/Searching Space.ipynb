{
 "cells": [
  {
   "cell_type": "markdown",
   "metadata": {},
   "source": [
    "# Searching for Free Space\n",
    "\n",
    "After an obstacle is detected, the robot must turn either left or right in search for free space, and move forward again.\n",
    "\n",
    "<img align=\"right\" src=\"img/free_choice.png\" />\n",
    "Here is one possible solution:\n",
    "\n",
    "* `Find the minimum of the left sensors (0, 1, 2)`\n",
    "* `Find the minimum of the right sensors (5, 6, 7)`\n",
    "* `If the left minimum is bigger than the right minimum`\n",
    "  * `Turn left`\n",
    "* `Else`\n",
    "  * `Turn right`\n",
    "* `In any case, keep turning until both front sensors (3, 4) are bigger than the chosen minimum`\n",
    "\n",
    "In the sample figure, the robot would turn right, since the minimum of the right side sensors (green arc) is bigger than the one of the left side (red arc)."
   ]
  },
  {
   "cell_type": "code",
   "execution_count": 1,
   "metadata": {
    "collapsed": false
   },
   "outputs": [],
   "source": [
    "import packages.initialization\n",
    "import pioneer3dx as p3dx\n",
    "p3dx.init()"
   ]
  },
  {
   "cell_type": "markdown",
   "metadata": {},
   "source": [
    "#### Minimum and maximum of an array\n",
    "\n",
    "For finding the minimum and maximum of an array, you can use the [Python built-in functions min and max](https://docs.python.org/2/library/functions.html#max)."
   ]
  },
  {
   "cell_type": "code",
   "execution_count": 2,
   "metadata": {
    "collapsed": false
   },
   "outputs": [
    {
     "data": {
      "text/plain": [
       "[2.660367965698242,\n",
       " 5.147482395172119,\n",
       " 2.3926870822906494,\n",
       " 3.885563611984253,\n",
       " 3.855074167251587,\n",
       " 4.512728691101074,\n",
       " 1.3826019763946533,\n",
       " 3.867016315460205]"
      ]
     },
     "execution_count": 2,
     "metadata": {},
     "output_type": "execute_result"
    }
   ],
   "source": [
    "p3dx.distance"
   ]
  },
  {
   "cell_type": "code",
   "execution_count": 3,
   "metadata": {
    "collapsed": false
   },
   "outputs": [
    {
     "data": {
      "text/plain": [
       "1.3974640369415283"
      ]
     },
     "execution_count": 3,
     "metadata": {},
     "output_type": "execute_result"
    }
   ],
   "source": [
    "min(p3dx.distance)"
   ]
  },
  {
   "cell_type": "code",
   "execution_count": 4,
   "metadata": {
    "collapsed": false
   },
   "outputs": [
    {
     "data": {
      "text/plain": [
       "5.126923084259033"
      ]
     },
     "execution_count": 4,
     "metadata": {},
     "output_type": "execute_result"
    }
   ],
   "source": [
    "max(p3dx.distance)"
   ]
  },
  {
   "cell_type": "markdown",
   "metadata": {},
   "source": [
    "You can use only some values of the array, with the [Python slice notation for lists](http://stackoverflow.com/questions/509211/explain-pythons-slice-notation):"
   ]
  },
  {
   "cell_type": "code",
   "execution_count": 5,
   "metadata": {
    "collapsed": false
   },
   "outputs": [
    {
     "data": {
      "text/plain": [
       "[2.69618558883667, 5.041738986968994, 2.3684632778167725]"
      ]
     },
     "execution_count": 5,
     "metadata": {},
     "output_type": "execute_result"
    }
   ],
   "source": [
    "# left sensors (0,1,2)\n",
    "p3dx.distance[0:3]"
   ]
  },
  {
   "cell_type": "code",
   "execution_count": 6,
   "metadata": {
    "collapsed": false
   },
   "outputs": [
    {
     "data": {
      "text/plain": [
       "[3.8899595737457275, 3.931875467300415]"
      ]
     },
     "execution_count": 6,
     "metadata": {},
     "output_type": "execute_result"
    }
   ],
   "source": [
    "# front sensors (3,4)\n",
    "p3dx.distance[3:5]"
   ]
  },
  {
   "cell_type": "code",
   "execution_count": 7,
   "metadata": {
    "collapsed": false
   },
   "outputs": [
    {
     "data": {
      "text/plain": [
       "[1.2222063541412354, 3.985966920852661, 3.6622862815856934]"
      ]
     },
     "execution_count": 7,
     "metadata": {},
     "output_type": "execute_result"
    }
   ],
   "source": [
    "# right sensors (5,6,7)\n",
    "p3dx.distance[5:]"
   ]
  },
  {
   "cell_type": "code",
   "execution_count": 7,
   "metadata": {
    "collapsed": false
   },
   "outputs": [
    {
     "name": "stdout",
     "output_type": "stream",
     "text": [
      "2.33564782143\n",
      "1.40835738182\n",
      "3.93690347672 3.90785503387\n"
     ]
    }
   ],
   "source": [
    "# left sensors (0,1,2)\n",
    "minLeft = min(p3dx.distance[0:3])\n",
    "print minLeft\n",
    "\n",
    "# right sensors (5,6,7)\n",
    "minRight = min(p3dx.distance[5:])\n",
    "print minRight\n",
    "\n",
    "# front sensors (3,4)\n",
    "front = p3dx.distance[3:5]\n",
    "print p3dx.distance[3],p3dx.distance[4]"
   ]
  },
  {
   "cell_type": "markdown",
   "metadata": {},
   "source": [
    "#### Exercise\n",
    "\n",
    "Implement the above-mentioned algorithm for turning towards free space:\n",
    "* `Find the minimum of the left sensors (0, 1, 2)`\n",
    "* `Find the minimum of the right sensors (5, 6, 7)`\n",
    "* `If the left minimum is bigger than the right minimum`\n",
    "  * `Turn left`\n",
    "* `Else`\n",
    "  * `Turn right`\n",
    "* `In any case, keep turning until both front sensors (3, 4) are bigger than the chosen minimum`"
   ]
  },
  {
   "cell_type": "code",
   "execution_count": 8,
   "metadata": {
    "collapsed": false
   },
   "outputs": [
    {
     "name": "stdout",
     "output_type": "stream",
     "text": [
      "2.40314030647\n",
      "1.38674116135\n",
      "3.90887403488 3.84389996529\n",
      "3.89153122902 3.8246691227\n"
     ]
    }
   ],
   "source": [
    "# left sensors (0,1,2)\n",
    "minLeft = min(p3dx.distance[0:3])\n",
    "print minLeft\n",
    "\n",
    "# right sensors (5,6,7)\n",
    "minRight = min(p3dx.distance[5:])\n",
    "print minRight\n",
    "\n",
    "# front sensors (3,4)\n",
    "minFront = min(p3dx.distance[3:5])\n",
    "print p3dx.distance[3],p3dx.distance[4]\n",
    "\n",
    "if minLeft > minRight:\n",
    "    while min(p3dx.distance[3:5]) < minLeft:\n",
    "        p3dx.move(-1,1) #turn left\n",
    "else:\n",
    "    while min(p3dx.distance[3:5]) < minRight:\n",
    "        p3dx.move(1,-1) #turn right\n",
    "p3dx.stop()\n",
    "\n",
    "print p3dx.distance[3],p3dx.distance[4]"
   ]
  },
  {
   "cell_type": "markdown",
   "metadata": {},
   "source": [
    "You can plot a diagram with the resulting position of the robot in the environment, and the measurements of the ultrasonic sensors."
   ]
  },
  {
   "cell_type": "code",
   "execution_count": 9,
   "metadata": {
    "collapsed": false
   },
   "outputs": [],
   "source": [
    "%matplotlib inline\n",
    "import ultrasonic"
   ]
  },
  {
   "cell_type": "code",
   "execution_count": 10,
   "metadata": {
    "collapsed": false
   },
   "outputs": [
    {
     "data": {
      "image/png": "[encoded data removed]",
      "text/plain": [
       "<matplotlib.figure.Figure at 0x7f6d649d8490>"
      ]
     },
     "metadata": {},
     "output_type": "display_data"
    }
   ],
   "source": [
    "ultrasonic.plot()"
   ]
  },
  {
   "cell_type": "markdown",
   "metadata": {},
   "source": [
    "Let's put together the last two exercises in a simple application: [wandering](Wandering.ipynb)."
   ]
  }
 ],
 "metadata": {
  "kernelspec": {
   "display_name": "Python 2",
   "language": "python",
   "name": "python2"
  },
  "language_info": {
   "codemirror_mode": {
    "name": "ipython",
    "version": 2
   },
   "file_extension": ".py",
   "mimetype": "text/x-python",
   "name": "python",
   "nbconvert_exporter": "python",
   "pygments_lexer": "ipython2",
   "version": "2.7.11"
  }
 },
 "nbformat": 4,
 "nbformat_minor": 0
}
