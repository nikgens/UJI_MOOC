{
 "cells": [
  {
   "cell_type": "markdown",
   "metadata": {},
   "source": [
    "<img align=\"right\" src=\"../img/exercise_turning.png\" />\n",
    "## Exercise: Turn the robot for an angle.\n",
    "\n",
    "You are going to make a program for turning the robot from the initial position at the start of the simulation, in the center of the room.\n",
    "\n",
    "The robot should stop after turning 90 degrees.\n",
    "\n",
    "According to the specifications, the *diameter* of the wheels of the Pioneer 3DX robot is 195.3 mm\n",
    "and the distance between the wheels is 330 mm.\n"
   ]
  },
  {
   "cell_type": "markdown",
   "metadata": {},
   "source": [
    "<img align=\"right\" src=\"../img/reload.png\" />\n",
    "### 1. Starting position\n",
    "For a better visual understanding of the task, it is recommended that the robot starts at the center of the room. \n",
    "\n",
    "You can easily relocate the robot there by simply restarting the simulation, by clicking on the second icon of the button bar, as depicted in the figure."
   ]
  },
  {
   "cell_type": "markdown",
   "metadata": {},
   "source": [
    "### 2. Initialization\n",
    "After restarting the simulation, the robot needs to be initialized."
   ]
  },
  {
   "cell_type": "code",
   "execution_count": 1,
   "metadata": {
    "collapsed": false
   },
   "outputs": [],
   "source": [
    "import packages.initialization\n",
    "import pioneer3dx as p3dx\n",
    "p3dx.init()"
   ]
  },
  {
   "cell_type": "markdown",
   "metadata": {},
   "source": [
    "### 3. Motion code\n",
    "\n",
    "In the following program template, you must fill the gaps with the appropriate code.\n",
    "\n",
    "The idea is to compute the turned angle of one of the encoders (no matter which one) as the difference between the current and initial values, then compute the angle turned by the robot. The robot will turn as long as this second angle is lower than the target angle, then it will stop."
   ]
  },
  {
   "cell_type": "code",
   "execution_count": 2,
   "metadata": {
    "collapsed": false
   },
   "outputs": [],
   "source": [
    "import math\n",
    "target = 90*math.pi/180      # target angle in radians\n",
    "r = 195.3/2           # wheel radius\n",
    "L = 330           # axis length\n",
    "initialEncoder = p3dx.leftEncoder\n",
    "robotAngle = 0\n",
    "while robotAngle < target:\n",
    "    p3dx.move(1.0,-1.0)\n",
    "    wheelAngle = p3dx.leftEncoder - initialEncoder\n",
    "    robotAngle = 2*wheelAngle*r/L\n",
    "p3dx.stop()"
   ]
  },
  {
   "cell_type": "markdown",
   "metadata": {},
   "source": [
    "#### Gentle reminder: save your work before proceeding to the next exercise!\n",
    "[Instructions for saving](Distance.ipynb#save).\n",
    "\n",
    "Next exercise: [Square Test](Square.ipynb)"
   ]
  }
 ],
 "metadata": {
  "kernelspec": {
   "display_name": "Python 2",
   "language": "python",
   "name": "python2"
  },
  "language_info": {
   "codemirror_mode": {
    "name": "ipython",
    "version": 2
   },
   "file_extension": ".py",
   "mimetype": "text/x-python",
   "name": "python",
   "nbconvert_exporter": "python",
   "pygments_lexer": "ipython2",
   "version": "2.7.11"
  }
 },
 "nbformat": 4,
 "nbformat_minor": 0
}
