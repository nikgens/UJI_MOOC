{
 "cells": [
  {
   "cell_type": "markdown",
   "metadata": {},
   "source": [
    "<img align=\"right\" src=\"../img/exercise_distance_240.png\" />\n",
    "## Exercise: Move the robot forward for a distance.\n",
    "\n",
    "You are going to program the robot for moving forward from the initial position at the start of the simulation, in the center of the room.\n",
    "\n",
    "The robot should stop after traveling a distance equal to the size of the tile, which is 2 m.\n",
    "\n",
    "According to the specifications, the *diameter* of the wheels of the Pioneer 3DX robot is 195.3 mm."
   ]
  },
  {
   "cell_type": "markdown",
   "metadata": {},
   "source": [
    "<img align=\"right\" src=\"../img/reload.png\" />\n",
    "### 1. Starting position\n",
    "For a better visual understanding of the task, it is recommended that the robot starts at the center of the room. \n",
    "\n",
    "You can easily relocate the robot there by simply restarting the simulation, by clicking on the second icon of the button bar, as depicted in the figure."
   ]
  },
  {
   "cell_type": "markdown",
   "metadata": {},
   "source": [
    "### 2. Initialization\n",
    "After restarting the simulation, the robot needs to be initialized."
   ]
  },
  {
   "cell_type": "code",
   "execution_count": 2,
   "metadata": {
    "collapsed": false
   },
   "outputs": [],
   "source": [
    "import packages.initialization\n",
    "import pioneer3dx as p3dx\n",
    "p3dx.init()"
   ]
  },
  {
   "cell_type": "markdown",
   "metadata": {},
   "source": [
    "### 3. Motion code\n",
    "\n",
    "In the following program template, you must fill the gaps with the appropriate code.\n",
    "\n",
    "The idea is to compute the turned angle of one of the encoders (no matter which one) as the difference between the current and initial values, then compute the traveled distance. The robot will keep moving as long as this distance is lower than the target distance, then it will stop."
   ]
  },
  {
   "cell_type": "code",
   "execution_count": 3,
   "metadata": {
    "collapsed": false
   },
   "outputs": [],
   "source": [
    "target = 2        # target distance\n",
    "radius = (195.3/2)/1000      # wheel radius\n",
    "initialEncoder = p3dx.leftEncoder\n",
    "distance = 0\n",
    "while distance < target:\n",
    "    p3dx.move(2.5,2.5)\n",
    "    angle = p3dx.leftEncoder - initialEncoder\n",
    "    distance = angle*radius\n",
    "p3dx.stop()"
   ]
  },
  {
   "cell_type": "markdown",
   "metadata": {},
   "source": [
    "Did the robot stop at the right place?\n",
    "\n",
    "If not, you need to modify your code, reload the simulation, and run the code again.\n",
    "\n",
    "If yes, please proceed to the next exercise, but before, let's do something important: **save your work!**"
   ]
  },
  {
   "cell_type": "markdown",
   "metadata": {},
   "source": [
    "<a id='save'></a>\n",
    "<img align=\"right\" src=\"../img/save.png\" />\n",
    "<h2>Save your work!!!</h2>\n",
    "\n",
    "For saving your progress, you need to save your progress **twice**:\n",
    "\n",
    "* **First**: you must save the notebook with the button labeled as **Save and Checkpoint** (or its equivalent option in the File menu)."
   ]
  },
  {
   "cell_type": "markdown",
   "metadata": {},
   "source": [
    "<img align=\"right\" src=\"../img/save_sim.png\" />\n",
    "* **Second**: you must save the simulation environment with the button labeled as **Save the current simulation** in the simulation window. Otherwise, your changes will not be stored in the cloud.\n",
    "\n",
    "In addition, for extra safety, you can download a copy of your notebook to your local computer with the menu **File / Download as / iPython Notebook (ipynb)**."
   ]
  },
  {
   "cell_type": "markdown",
   "metadata": {},
   "source": [
    "If you have already saved your work, it's time to proceed to the next exercise: [Turn the robot right for a given angle](Angle.ipynb)"
   ]
  }
 ],
 "metadata": {
  "kernelspec": {
   "display_name": "Python 2",
   "language": "python",
   "name": "python2"
  },
  "language_info": {
   "codemirror_mode": {
    "name": "ipython",
    "version": 2
   },
   "file_extension": ".py",
   "mimetype": "text/x-python",
   "name": "python",
   "nbconvert_exporter": "python",
   "pygments_lexer": "ipython2",
   "version": "2.7.11"
  }
 },
 "nbformat": 4,
 "nbformat_minor": 0
}
